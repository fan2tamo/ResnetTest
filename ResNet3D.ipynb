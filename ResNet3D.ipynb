{
  "nbformat": 4,
  "nbformat_minor": 0,
  "metadata": {
    "colab": {
      "name": "ResNet3D.ipynb",
      "provenance": [],
      "collapsed_sections": []
    },
    "kernelspec": {
      "name": "python3",
      "display_name": "Python 3"
    },
    "accelerator": "GPU"
  },
  "cells": [
    {
      "cell_type": "code",
      "metadata": {
        "id": "voFCuDxbu3P7",
        "colab_type": "code",
        "colab": {}
      },
      "source": [
        "\n",
        "%matplotlib inline\n",
        "\n",
        "import os\n",
        "import pickle\n",
        "import tensorflow.keras as keras\n",
        "import numpy as np\n",
        "import matplotlib.pyplot as plt\n",
        "\n",
        "from tensorflow.keras import Input\n",
        "from tensorflow.keras.layers import Dense, Convolution2D, MaxPooling2D, Flatten, Input, Activation, Add, Dropout, BatchNormalization, GlobalAveragePooling2D\n",
        "from tensorflow.keras.layers import Convolution3D, MaxPooling3D, GlobalAveragePooling3D\n",
        "from tensorflow.keras.callbacks import EarlyStopping\n",
        "from tensorflow.keras.models import Sequential, Model\n",
        "from tensorflow.keras.datasets import fashion_mnist\n",
        "from tensorflow.keras.utils import to_categorical\n",
        "from sklearn.model_selection import train_test_split\n",
        "\n",
        "from IPython.display import SVG\n",
        "from tensorflow.python.keras.utils.vis_utils import model_to_dot\n",
        "\n",
        "from tensorflow.examples.tutorials.mnist import input_data"
      ],
      "execution_count": 0,
      "outputs": []
    },
    {
      "cell_type": "code",
      "metadata": {
        "id": "l4MFv87_vTyH",
        "colab_type": "code",
        "outputId": "98a50453-0fd8-4caa-bd81-13de0b0602c2",
        "colab": {
          "base_uri": "https://localhost:8080/",
          "height": 34
        }
      },
      "source": [
        "from google.colab import drive\n",
        "drive.mount('./gdrive')"
      ],
      "execution_count": 7,
      "outputs": [
        {
          "output_type": "stream",
          "text": [
            "Drive already mounted at ./gdrive; to attempt to forcibly remount, call drive.mount(\"./gdrive\", force_remount=True).\n"
          ],
          "name": "stdout"
        }
      ]
    },
    {
      "cell_type": "code",
      "metadata": {
        "id": "3PeEbLCMR-kw",
        "colab_type": "code",
        "colab": {
          "base_uri": "https://localhost:8080/",
          "height": 34
        },
        "outputId": "5afe9519-c69b-411c-a76e-cd5f4788083d"
      },
      "source": [
        "%cd \"gdrive/My Drive/Colab Notebooks\""
      ],
      "execution_count": 38,
      "outputs": [
        {
          "output_type": "stream",
          "text": [
            "/content/gdrive/My Drive/Colab Notebooks\n"
          ],
          "name": "stdout"
        }
      ]
    },
    {
      "cell_type": "code",
      "metadata": {
        "id": "u14Pb-Ppu7hg",
        "colab_type": "code",
        "colab": {}
      },
      "source": [
        "def Shortcut3D(input_data, fx, data_format = \"channels_first\"):\n",
        "\n",
        "  # チャンネル数の取得\n",
        "  if data_format == \"channels_first\":\n",
        "    channel_num = int(fx.shape[1])\n",
        "  else:\n",
        "    channel_num = int(fx.shape[4])\n",
        "      \n",
        "  # inputs と residual とでチャネル数が違うかもしれない。\n",
        "  # そのままだと足せないので、1x1 conv を使って residual 側のフィルタ数に合わせている\n",
        "  buf = Convolution3D(channel_num, (1,1,1), strides=(1,1,1), padding='valid', data_format=data_format)(input_data)\n",
        "\n",
        "  # 2つを足す\n",
        "  return Add()([buf, fx])"
      ],
      "execution_count": 0,
      "outputs": []
    },
    {
      "cell_type": "code",
      "metadata": {
        "id": "KgRxuiigvC75",
        "colab_type": "code",
        "colab": {}
      },
      "source": [
        "def Resblock3D(n_filters, strides=(1,1,1), data_format = \"channels_first\", axis=1):\n",
        "  def f(input_data):   \n",
        "    fx = Convolution3D(n_filters, (3,3,3), strides=strides, kernel_initializer='he_normal', padding='same', data_format=data_format)(input_data)\n",
        "    fx = BatchNormalization(axis=axis)(fx)\n",
        "    fx = Activation('relu')(fx)\n",
        "    fx = Convolution3D(n_filters, (3,3,3), strides=strides, kernel_initializer='he_normal', padding='same', data_format=data_format)(fx)\n",
        "    fx = BatchNormalization(axis=axis)(fx)\n",
        "\n",
        "    return Shortcut3D(input_data, fx, data_format)\n",
        "\n",
        "  return f"
      ],
      "execution_count": 0,
      "outputs": []
    },
    {
      "cell_type": "code",
      "metadata": {
        "id": "RF1CpIcRvFCq",
        "colab_type": "code",
        "colab": {}
      },
      "source": [
        "def Resnet3D(channel = 3, frame = 10, height = 64, width = 64, num_classes = 2, is_channels_first = True):\n",
        "  if is_channels_first:\n",
        "    data_format = \"channels_first\"\n",
        "    axis=1\n",
        "    input_data = Input(shape=(channel, frame, height, width))\n",
        "  else:\n",
        "    data_format = \"channels_last\"\n",
        "    axis=-1\n",
        "    input_data = Input(shape=(frame, height, width, channel))\n",
        "  \n",
        "  print(input_data.shape)\n",
        "\n",
        "  x = Convolution3D(32, (7,7,7), strides=(1,1,1), kernel_initializer='he_normal', padding='same', data_format=data_format)(input_data)\n",
        "  x = BatchNormalization(axis=axis)(x)\n",
        "  x = Activation('relu')(x)\n",
        "  x = MaxPooling3D((3, 3,3), strides=(2,2,2), padding='same', data_format=data_format)(x)\n",
        "\n",
        "\n",
        "  x = Resblock3D(n_filters=64, data_format = data_format, axis=axis)(x)\n",
        "  x = Resblock3D(n_filters=64, data_format = data_format, axis=axis)(x)\n",
        "  x = Resblock3D(n_filters=64, data_format = data_format, axis=axis)(x)\n",
        "  x = MaxPooling3D(strides=(2,2,2), data_format=data_format)(x)  \n",
        "  x = Resblock3D(n_filters=128, data_format = data_format, axis=axis)(x)\n",
        "  x = Resblock3D(n_filters=128, data_format = data_format, axis=axis)(x)\n",
        "  x = Resblock3D(n_filters=128, data_format = data_format, axis=axis)(x)\n",
        "\n",
        "\n",
        "  x =  GlobalAveragePooling3D(data_format=data_format)(x)\n",
        "  x = Dense(num_classes, kernel_initializer='he_normal', activation='softmax')(x)\n",
        "\n",
        "  model = Model(inputs=input_data, outputs=x)\n",
        "  return model"
      ],
      "execution_count": 0,
      "outputs": []
    },
    {
      "cell_type": "code",
      "metadata": {
        "id": "LV_F2-0rvJBx",
        "colab_type": "code",
        "colab": {}
      },
      "source": [
        "is_channels_first = False\n",
        "\n",
        "if is_channels_first:\n",
        "    with open('./resnet3d_data_x_channel_first.pkl', 'rb') as fx:\n",
        "        X = pickle.load(fx)\n",
        "    \n",
        "    with open('./resnet3d_data_y_channel_first.pkl', 'rb') as fy:\n",
        "        Y = pickle.load(fy)\n",
        "else:\n",
        "    with open('./resnet3d_data_x_channel_last.pkl', 'rb') as fx:\n",
        "        X = pickle.load(fx)\n",
        "    \n",
        "    with open('./resnet3d_data_y_channel_last.pkl', 'rb') as fy:\n",
        "        Y = pickle.load(fy)    \n",
        "        \n",
        "Y = keras.utils.to_categorical(Y, 2)\n",
        "X_train, X_val,  Y_train,  Y_val = train_test_split(X, Y, train_size=0.8, shuffle=True)\n",
        "X_train, X_test, Y_train, Y_test = train_test_split(X_train, Y_train, train_size=0.8, shuffle=True)"
      ],
      "execution_count": 0,
      "outputs": []
    },
    {
      "cell_type": "code",
      "metadata": {
        "id": "6h7ZKyYk2DOp",
        "colab_type": "code",
        "outputId": "d3b15409-9d2e-459e-9c67-3a022d8628b4",
        "colab": {
          "base_uri": "https://localhost:8080/",
          "height": 34
        }
      },
      "source": [
        "model = Resnet3D(channel=3, frame=10, height=64, width=64, num_classes=2, is_channels_first=is_channels_first)\n",
        "adam = keras.optimizers.Adam()\n",
        "model.compile(optimizer=adam, loss='categorical_crossentropy', metrics=['accuracy'])"
      ],
      "execution_count": 48,
      "outputs": [
        {
          "output_type": "stream",
          "text": [
            "(?, 10, 64, 64, 3)\n"
          ],
          "name": "stdout"
        }
      ]
    },
    {
      "cell_type": "code",
      "metadata": {
        "id": "jHeJ1ivGa5gh",
        "colab_type": "code",
        "colab": {
          "base_uri": "https://localhost:8080/",
          "height": 1000
        },
        "outputId": "19d760ad-5fdd-4b2d-beac-33395dc82cc1"
      },
      "source": [
        "model.summary()"
      ],
      "execution_count": 49,
      "outputs": [
        {
          "output_type": "stream",
          "text": [
            "Model: \"model_4\"\n",
            "__________________________________________________________________________________________________\n",
            "Layer (type)                    Output Shape         Param #     Connected to                     \n",
            "==================================================================================================\n",
            "input_5 (InputLayer)            [(None, 10, 64, 64,  0                                            \n",
            "__________________________________________________________________________________________________\n",
            "conv3d_76 (Conv3D)              (None, 10, 64, 64, 3 32960       input_5[0][0]                    \n",
            "__________________________________________________________________________________________________\n",
            "batch_normalization_52 (BatchNo (None, 10, 64, 64, 3 128         conv3d_76[0][0]                  \n",
            "__________________________________________________________________________________________________\n",
            "activation_28 (Activation)      (None, 10, 64, 64, 3 0           batch_normalization_52[0][0]     \n",
            "__________________________________________________________________________________________________\n",
            "max_pooling3d_8 (MaxPooling3D)  (None, 5, 32, 32, 32 0           activation_28[0][0]              \n",
            "__________________________________________________________________________________________________\n",
            "conv3d_77 (Conv3D)              (None, 5, 32, 32, 64 55360       max_pooling3d_8[0][0]            \n",
            "__________________________________________________________________________________________________\n",
            "batch_normalization_53 (BatchNo (None, 5, 32, 32, 64 256         conv3d_77[0][0]                  \n",
            "__________________________________________________________________________________________________\n",
            "activation_29 (Activation)      (None, 5, 32, 32, 64 0           batch_normalization_53[0][0]     \n",
            "__________________________________________________________________________________________________\n",
            "conv3d_78 (Conv3D)              (None, 5, 32, 32, 64 110656      activation_29[0][0]              \n",
            "__________________________________________________________________________________________________\n",
            "conv3d_79 (Conv3D)              (None, 5, 32, 32, 64 2112        max_pooling3d_8[0][0]            \n",
            "__________________________________________________________________________________________________\n",
            "batch_normalization_54 (BatchNo (None, 5, 32, 32, 64 256         conv3d_78[0][0]                  \n",
            "__________________________________________________________________________________________________\n",
            "add_24 (Add)                    (None, 5, 32, 32, 64 0           conv3d_79[0][0]                  \n",
            "                                                                 batch_normalization_54[0][0]     \n",
            "__________________________________________________________________________________________________\n",
            "conv3d_80 (Conv3D)              (None, 5, 32, 32, 64 110656      add_24[0][0]                     \n",
            "__________________________________________________________________________________________________\n",
            "batch_normalization_55 (BatchNo (None, 5, 32, 32, 64 256         conv3d_80[0][0]                  \n",
            "__________________________________________________________________________________________________\n",
            "activation_30 (Activation)      (None, 5, 32, 32, 64 0           batch_normalization_55[0][0]     \n",
            "__________________________________________________________________________________________________\n",
            "conv3d_81 (Conv3D)              (None, 5, 32, 32, 64 110656      activation_30[0][0]              \n",
            "__________________________________________________________________________________________________\n",
            "conv3d_82 (Conv3D)              (None, 5, 32, 32, 64 4160        add_24[0][0]                     \n",
            "__________________________________________________________________________________________________\n",
            "batch_normalization_56 (BatchNo (None, 5, 32, 32, 64 256         conv3d_81[0][0]                  \n",
            "__________________________________________________________________________________________________\n",
            "add_25 (Add)                    (None, 5, 32, 32, 64 0           conv3d_82[0][0]                  \n",
            "                                                                 batch_normalization_56[0][0]     \n",
            "__________________________________________________________________________________________________\n",
            "conv3d_83 (Conv3D)              (None, 5, 32, 32, 64 110656      add_25[0][0]                     \n",
            "__________________________________________________________________________________________________\n",
            "batch_normalization_57 (BatchNo (None, 5, 32, 32, 64 256         conv3d_83[0][0]                  \n",
            "__________________________________________________________________________________________________\n",
            "activation_31 (Activation)      (None, 5, 32, 32, 64 0           batch_normalization_57[0][0]     \n",
            "__________________________________________________________________________________________________\n",
            "conv3d_84 (Conv3D)              (None, 5, 32, 32, 64 110656      activation_31[0][0]              \n",
            "__________________________________________________________________________________________________\n",
            "conv3d_85 (Conv3D)              (None, 5, 32, 32, 64 4160        add_25[0][0]                     \n",
            "__________________________________________________________________________________________________\n",
            "batch_normalization_58 (BatchNo (None, 5, 32, 32, 64 256         conv3d_84[0][0]                  \n",
            "__________________________________________________________________________________________________\n",
            "add_26 (Add)                    (None, 5, 32, 32, 64 0           conv3d_85[0][0]                  \n",
            "                                                                 batch_normalization_58[0][0]     \n",
            "__________________________________________________________________________________________________\n",
            "max_pooling3d_9 (MaxPooling3D)  (None, 2, 16, 16, 64 0           add_26[0][0]                     \n",
            "__________________________________________________________________________________________________\n",
            "conv3d_86 (Conv3D)              (None, 2, 16, 16, 12 221312      max_pooling3d_9[0][0]            \n",
            "__________________________________________________________________________________________________\n",
            "batch_normalization_59 (BatchNo (None, 2, 16, 16, 12 512         conv3d_86[0][0]                  \n",
            "__________________________________________________________________________________________________\n",
            "activation_32 (Activation)      (None, 2, 16, 16, 12 0           batch_normalization_59[0][0]     \n",
            "__________________________________________________________________________________________________\n",
            "conv3d_87 (Conv3D)              (None, 2, 16, 16, 12 442496      activation_32[0][0]              \n",
            "__________________________________________________________________________________________________\n",
            "conv3d_88 (Conv3D)              (None, 2, 16, 16, 12 8320        max_pooling3d_9[0][0]            \n",
            "__________________________________________________________________________________________________\n",
            "batch_normalization_60 (BatchNo (None, 2, 16, 16, 12 512         conv3d_87[0][0]                  \n",
            "__________________________________________________________________________________________________\n",
            "add_27 (Add)                    (None, 2, 16, 16, 12 0           conv3d_88[0][0]                  \n",
            "                                                                 batch_normalization_60[0][0]     \n",
            "__________________________________________________________________________________________________\n",
            "conv3d_89 (Conv3D)              (None, 2, 16, 16, 12 442496      add_27[0][0]                     \n",
            "__________________________________________________________________________________________________\n",
            "batch_normalization_61 (BatchNo (None, 2, 16, 16, 12 512         conv3d_89[0][0]                  \n",
            "__________________________________________________________________________________________________\n",
            "activation_33 (Activation)      (None, 2, 16, 16, 12 0           batch_normalization_61[0][0]     \n",
            "__________________________________________________________________________________________________\n",
            "conv3d_90 (Conv3D)              (None, 2, 16, 16, 12 442496      activation_33[0][0]              \n",
            "__________________________________________________________________________________________________\n",
            "conv3d_91 (Conv3D)              (None, 2, 16, 16, 12 16512       add_27[0][0]                     \n",
            "__________________________________________________________________________________________________\n",
            "batch_normalization_62 (BatchNo (None, 2, 16, 16, 12 512         conv3d_90[0][0]                  \n",
            "__________________________________________________________________________________________________\n",
            "add_28 (Add)                    (None, 2, 16, 16, 12 0           conv3d_91[0][0]                  \n",
            "                                                                 batch_normalization_62[0][0]     \n",
            "__________________________________________________________________________________________________\n",
            "conv3d_92 (Conv3D)              (None, 2, 16, 16, 12 442496      add_28[0][0]                     \n",
            "__________________________________________________________________________________________________\n",
            "batch_normalization_63 (BatchNo (None, 2, 16, 16, 12 512         conv3d_92[0][0]                  \n",
            "__________________________________________________________________________________________________\n",
            "activation_34 (Activation)      (None, 2, 16, 16, 12 0           batch_normalization_63[0][0]     \n",
            "__________________________________________________________________________________________________\n",
            "conv3d_93 (Conv3D)              (None, 2, 16, 16, 12 442496      activation_34[0][0]              \n",
            "__________________________________________________________________________________________________\n",
            "conv3d_94 (Conv3D)              (None, 2, 16, 16, 12 16512       add_28[0][0]                     \n",
            "__________________________________________________________________________________________________\n",
            "batch_normalization_64 (BatchNo (None, 2, 16, 16, 12 512         conv3d_93[0][0]                  \n",
            "__________________________________________________________________________________________________\n",
            "add_29 (Add)                    (None, 2, 16, 16, 12 0           conv3d_94[0][0]                  \n",
            "                                                                 batch_normalization_64[0][0]     \n",
            "__________________________________________________________________________________________________\n",
            "global_average_pooling3d_4 (Glo (None, 128)          0           add_29[0][0]                     \n",
            "__________________________________________________________________________________________________\n",
            "dense_4 (Dense)                 (None, 2)            258         global_average_pooling3d_4[0][0] \n",
            "==================================================================================================\n",
            "Total params: 3,132,162\n",
            "Trainable params: 3,129,794\n",
            "Non-trainable params: 2,368\n",
            "__________________________________________________________________________________________________\n"
          ],
          "name": "stdout"
        }
      ]
    },
    {
      "cell_type": "code",
      "metadata": {
        "id": "Vw49OEQRwJfm",
        "colab_type": "code",
        "outputId": "6675ebd5-da06-4c15-a7b5-a6ddf9e427cb",
        "colab": {
          "base_uri": "https://localhost:8080/",
          "height": 1000
        }
      },
      "source": [
        "history = model.fit(X_train, Y_train,\n",
        "                    batch_size=256,\n",
        "                    epochs=50,\n",
        "                    verbose=1,\n",
        "                    callbacks=[keras.callbacks.EarlyStopping(monitor='val_loss', min_delta=0, patience=20, verbose=1)],\n",
        "                    validation_data=(X_test, Y_test))"
      ],
      "execution_count": 46,
      "outputs": [
        {
          "output_type": "stream",
          "text": [
            "Train on 1034 samples, validate on 259 samples\n",
            "Epoch 1/50\n",
            "1034/1034 [==============================] - 57s 55ms/sample - loss: 2.5968 - acc: 0.5667 - val_loss: 22.7038 - val_acc: 0.6216\n",
            "Epoch 2/50\n",
            "1034/1034 [==============================] - 39s 38ms/sample - loss: 0.7969 - acc: 0.5648 - val_loss: 27.8626 - val_acc: 0.3784\n",
            "Epoch 3/50\n",
            "1034/1034 [==============================] - 40s 38ms/sample - loss: 0.7837 - acc: 0.5687 - val_loss: 147.4382 - val_acc: 0.3784\n",
            "Epoch 4/50\n",
            "1034/1034 [==============================] - 39s 38ms/sample - loss: 0.7009 - acc: 0.5039 - val_loss: 120.1122 - val_acc: 0.6216\n",
            "Epoch 5/50\n",
            "1034/1034 [==============================] - 40s 38ms/sample - loss: 0.7252 - acc: 0.6441 - val_loss: 401.8571 - val_acc: 0.6216\n",
            "Epoch 6/50\n",
            "1034/1034 [==============================] - 40s 38ms/sample - loss: 0.6874 - acc: 0.4855 - val_loss: 137.4836 - val_acc: 0.6216\n",
            "Epoch 7/50\n",
            "1034/1034 [==============================] - 40s 38ms/sample - loss: 0.6584 - acc: 0.6441 - val_loss: 68.6805 - val_acc: 0.6216\n",
            "Epoch 8/50\n",
            "1034/1034 [==============================] - 40s 38ms/sample - loss: 0.6530 - acc: 0.6441 - val_loss: 35.4783 - val_acc: 0.6216\n",
            "Epoch 9/50\n",
            "1034/1034 [==============================] - 40s 38ms/sample - loss: 0.6638 - acc: 0.6441 - val_loss: 30.5547 - val_acc: 0.6216\n",
            "Epoch 10/50\n",
            "1034/1034 [==============================] - 39s 38ms/sample - loss: 0.6560 - acc: 0.6441 - val_loss: 14.6552 - val_acc: 0.6216\n",
            "Epoch 11/50\n",
            "1034/1034 [==============================] - 40s 38ms/sample - loss: 0.6499 - acc: 0.6441 - val_loss: 9.9853 - val_acc: 0.3784\n",
            "Epoch 12/50\n",
            "1034/1034 [==============================] - 40s 38ms/sample - loss: 0.6564 - acc: 0.6441 - val_loss: 26.5122 - val_acc: 0.3784\n",
            "Epoch 13/50\n",
            "1034/1034 [==============================] - 40s 38ms/sample - loss: 0.6600 - acc: 0.6441 - val_loss: 55.2277 - val_acc: 0.3784\n",
            "Epoch 14/50\n",
            "1034/1034 [==============================] - 40s 38ms/sample - loss: 0.6528 - acc: 0.6441 - val_loss: 49.8777 - val_acc: 0.3784\n",
            "Epoch 15/50\n",
            "1034/1034 [==============================] - 40s 38ms/sample - loss: 0.6528 - acc: 0.6441 - val_loss: 25.3831 - val_acc: 0.3784\n",
            "Epoch 16/50\n",
            "1034/1034 [==============================] - 40s 38ms/sample - loss: 0.6517 - acc: 0.6441 - val_loss: 22.1987 - val_acc: 0.3784\n",
            "Epoch 17/50\n",
            "1034/1034 [==============================] - 40s 39ms/sample - loss: 0.6537 - acc: 0.6441 - val_loss: 22.5686 - val_acc: 0.3784\n",
            "Epoch 18/50\n",
            "1034/1034 [==============================] - 40s 38ms/sample - loss: 0.6527 - acc: 0.6441 - val_loss: 17.1268 - val_acc: 0.3784\n",
            "Epoch 19/50\n",
            "1034/1034 [==============================] - 40s 38ms/sample - loss: 0.6533 - acc: 0.6441 - val_loss: 14.9221 - val_acc: 0.3784\n",
            "Epoch 20/50\n",
            "1034/1034 [==============================] - 40s 38ms/sample - loss: 0.6562 - acc: 0.6441 - val_loss: 13.7835 - val_acc: 0.3784\n",
            "Epoch 21/50\n",
            "1034/1034 [==============================] - 40s 38ms/sample - loss: 0.6507 - acc: 0.6441 - val_loss: 10.3854 - val_acc: 0.3784\n",
            "Epoch 22/50\n",
            "1034/1034 [==============================] - 40s 38ms/sample - loss: 0.6543 - acc: 0.6441 - val_loss: 5.5301 - val_acc: 0.3784\n",
            "Epoch 23/50\n",
            "1034/1034 [==============================] - 40s 38ms/sample - loss: 0.6521 - acc: 0.6441 - val_loss: 2.1982 - val_acc: 0.3784\n",
            "Epoch 24/50\n",
            "1034/1034 [==============================] - 40s 38ms/sample - loss: 0.6521 - acc: 0.6441 - val_loss: 0.7285 - val_acc: 0.6216\n",
            "Epoch 25/50\n",
            "1034/1034 [==============================] - 40s 39ms/sample - loss: 0.6559 - acc: 0.6441 - val_loss: 0.9166 - val_acc: 0.6216\n",
            "Epoch 26/50\n",
            "1034/1034 [==============================] - 40s 38ms/sample - loss: 0.6537 - acc: 0.6441 - val_loss: 1.1701 - val_acc: 0.6216\n",
            "Epoch 27/50\n",
            "1034/1034 [==============================] - 40s 38ms/sample - loss: 0.6517 - acc: 0.6441 - val_loss: 0.7365 - val_acc: 0.6216\n",
            "Epoch 28/50\n",
            "1034/1034 [==============================] - 40s 38ms/sample - loss: 0.6518 - acc: 0.6441 - val_loss: 0.9337 - val_acc: 0.6216\n",
            "Epoch 29/50\n",
            "1034/1034 [==============================] - 40s 38ms/sample - loss: 0.6519 - acc: 0.6441 - val_loss: 0.9972 - val_acc: 0.3784\n",
            "Epoch 30/50\n",
            "1034/1034 [==============================] - 40s 38ms/sample - loss: 0.6604 - acc: 0.6441 - val_loss: 2.3278 - val_acc: 0.3784\n",
            "Epoch 31/50\n",
            "1034/1034 [==============================] - 40s 38ms/sample - loss: 0.6495 - acc: 0.6441 - val_loss: 2.3044 - val_acc: 0.3784\n",
            "Epoch 32/50\n",
            "1034/1034 [==============================] - 40s 38ms/sample - loss: 0.6665 - acc: 0.6441 - val_loss: 2.5026 - val_acc: 0.3784\n",
            "Epoch 33/50\n",
            "1034/1034 [==============================] - 40s 38ms/sample - loss: 0.6530 - acc: 0.6441 - val_loss: 2.0966 - val_acc: 0.3784\n",
            "Epoch 34/50\n",
            "1034/1034 [==============================] - 40s 38ms/sample - loss: 0.6512 - acc: 0.6441 - val_loss: 1.4386 - val_acc: 0.3784\n",
            "Epoch 35/50\n",
            "1034/1034 [==============================] - 40s 38ms/sample - loss: 0.6530 - acc: 0.6441 - val_loss: 1.6022 - val_acc: 0.3784\n",
            "Epoch 36/50\n",
            "1034/1034 [==============================] - 40s 38ms/sample - loss: 0.6615 - acc: 0.6441 - val_loss: 1.2744 - val_acc: 0.3784\n",
            "Epoch 37/50\n",
            "1034/1034 [==============================] - 40s 38ms/sample - loss: 0.6582 - acc: 0.6441 - val_loss: 1.1275 - val_acc: 0.3784\n",
            "Epoch 38/50\n",
            "1034/1034 [==============================] - 40s 38ms/sample - loss: 0.6538 - acc: 0.6441 - val_loss: 0.8219 - val_acc: 0.3784\n",
            "Epoch 39/50\n",
            "1034/1034 [==============================] - 40s 38ms/sample - loss: 0.6537 - acc: 0.6441 - val_loss: 1.1275 - val_acc: 0.3784\n",
            "Epoch 40/50\n",
            "1034/1034 [==============================] - 40s 38ms/sample - loss: 0.6742 - acc: 0.6383 - val_loss: 1.4896 - val_acc: 0.3784\n",
            "Epoch 41/50\n",
            "1034/1034 [==============================] - 40s 38ms/sample - loss: 0.6555 - acc: 0.6441 - val_loss: 1.8473 - val_acc: 0.3784\n",
            "Epoch 42/50\n",
            "1034/1034 [==============================] - 40s 38ms/sample - loss: 0.6529 - acc: 0.6441 - val_loss: 2.3133 - val_acc: 0.3784\n",
            "Epoch 43/50\n",
            "1034/1034 [==============================] - 40s 38ms/sample - loss: 0.6526 - acc: 0.6441 - val_loss: 3.0079 - val_acc: 0.3784\n",
            "Epoch 44/50\n",
            "1034/1034 [==============================] - 40s 38ms/sample - loss: 0.6522 - acc: 0.6441 - val_loss: 1.9316 - val_acc: 0.3784\n",
            "Epoch 00044: early stopping\n"
          ],
          "name": "stdout"
        }
      ]
    },
    {
      "cell_type": "code",
      "metadata": {
        "id": "cZqp4NPi0DLp",
        "colab_type": "code",
        "colab": {}
      },
      "source": [
        ""
      ],
      "execution_count": 0,
      "outputs": []
    }
  ]
}