{
 "cells": [
  {
   "cell_type": "code",
   "execution_count": 1,
   "metadata": {},
   "outputs": [
    {
     "name": "stderr",
     "output_type": "stream",
     "text": [
      "c:\\users\\tfukushima1\\appdata\\local\\continuum\\anaconda3\\envs\\techacademy\\lib\\site-packages\\tensorflow\\python\\framework\\dtypes.py:516: FutureWarning: Passing (type, 1) or '1type' as a synonym of type is deprecated; in a future version of numpy, it will be understood as (type, (1,)) / '(1,)type'.\n",
      "  _np_qint8 = np.dtype([(\"qint8\", np.int8, 1)])\n",
      "c:\\users\\tfukushima1\\appdata\\local\\continuum\\anaconda3\\envs\\techacademy\\lib\\site-packages\\tensorflow\\python\\framework\\dtypes.py:517: FutureWarning: Passing (type, 1) or '1type' as a synonym of type is deprecated; in a future version of numpy, it will be understood as (type, (1,)) / '(1,)type'.\n",
      "  _np_quint8 = np.dtype([(\"quint8\", np.uint8, 1)])\n",
      "c:\\users\\tfukushima1\\appdata\\local\\continuum\\anaconda3\\envs\\techacademy\\lib\\site-packages\\tensorflow\\python\\framework\\dtypes.py:518: FutureWarning: Passing (type, 1) or '1type' as a synonym of type is deprecated; in a future version of numpy, it will be understood as (type, (1,)) / '(1,)type'.\n",
      "  _np_qint16 = np.dtype([(\"qint16\", np.int16, 1)])\n",
      "c:\\users\\tfukushima1\\appdata\\local\\continuum\\anaconda3\\envs\\techacademy\\lib\\site-packages\\tensorflow\\python\\framework\\dtypes.py:519: FutureWarning: Passing (type, 1) or '1type' as a synonym of type is deprecated; in a future version of numpy, it will be understood as (type, (1,)) / '(1,)type'.\n",
      "  _np_quint16 = np.dtype([(\"quint16\", np.uint16, 1)])\n",
      "c:\\users\\tfukushima1\\appdata\\local\\continuum\\anaconda3\\envs\\techacademy\\lib\\site-packages\\tensorflow\\python\\framework\\dtypes.py:520: FutureWarning: Passing (type, 1) or '1type' as a synonym of type is deprecated; in a future version of numpy, it will be understood as (type, (1,)) / '(1,)type'.\n",
      "  _np_qint32 = np.dtype([(\"qint32\", np.int32, 1)])\n",
      "c:\\users\\tfukushima1\\appdata\\local\\continuum\\anaconda3\\envs\\techacademy\\lib\\site-packages\\tensorflow\\python\\framework\\dtypes.py:525: FutureWarning: Passing (type, 1) or '1type' as a synonym of type is deprecated; in a future version of numpy, it will be understood as (type, (1,)) / '(1,)type'.\n",
      "  np_resource = np.dtype([(\"resource\", np.ubyte, 1)])\n",
      "c:\\users\\tfukushima1\\appdata\\local\\continuum\\anaconda3\\envs\\techacademy\\lib\\site-packages\\tensorboard\\compat\\tensorflow_stub\\dtypes.py:541: FutureWarning: Passing (type, 1) or '1type' as a synonym of type is deprecated; in a future version of numpy, it will be understood as (type, (1,)) / '(1,)type'.\n",
      "  _np_qint8 = np.dtype([(\"qint8\", np.int8, 1)])\n",
      "c:\\users\\tfukushima1\\appdata\\local\\continuum\\anaconda3\\envs\\techacademy\\lib\\site-packages\\tensorboard\\compat\\tensorflow_stub\\dtypes.py:542: FutureWarning: Passing (type, 1) or '1type' as a synonym of type is deprecated; in a future version of numpy, it will be understood as (type, (1,)) / '(1,)type'.\n",
      "  _np_quint8 = np.dtype([(\"quint8\", np.uint8, 1)])\n",
      "c:\\users\\tfukushima1\\appdata\\local\\continuum\\anaconda3\\envs\\techacademy\\lib\\site-packages\\tensorboard\\compat\\tensorflow_stub\\dtypes.py:543: FutureWarning: Passing (type, 1) or '1type' as a synonym of type is deprecated; in a future version of numpy, it will be understood as (type, (1,)) / '(1,)type'.\n",
      "  _np_qint16 = np.dtype([(\"qint16\", np.int16, 1)])\n",
      "c:\\users\\tfukushima1\\appdata\\local\\continuum\\anaconda3\\envs\\techacademy\\lib\\site-packages\\tensorboard\\compat\\tensorflow_stub\\dtypes.py:544: FutureWarning: Passing (type, 1) or '1type' as a synonym of type is deprecated; in a future version of numpy, it will be understood as (type, (1,)) / '(1,)type'.\n",
      "  _np_quint16 = np.dtype([(\"quint16\", np.uint16, 1)])\n",
      "c:\\users\\tfukushima1\\appdata\\local\\continuum\\anaconda3\\envs\\techacademy\\lib\\site-packages\\tensorboard\\compat\\tensorflow_stub\\dtypes.py:545: FutureWarning: Passing (type, 1) or '1type' as a synonym of type is deprecated; in a future version of numpy, it will be understood as (type, (1,)) / '(1,)type'.\n",
      "  _np_qint32 = np.dtype([(\"qint32\", np.int32, 1)])\n",
      "c:\\users\\tfukushima1\\appdata\\local\\continuum\\anaconda3\\envs\\techacademy\\lib\\site-packages\\tensorboard\\compat\\tensorflow_stub\\dtypes.py:550: FutureWarning: Passing (type, 1) or '1type' as a synonym of type is deprecated; in a future version of numpy, it will be understood as (type, (1,)) / '(1,)type'.\n",
      "  np_resource = np.dtype([(\"resource\", np.ubyte, 1)])\n"
     ]
    }
   ],
   "source": [
    "%matplotlib inline\n",
    "\n",
    "import os\n",
    "\n",
    "import tensorflow.keras as keras\n",
    "import numpy as np\n",
    "import matplotlib.pyplot as plt\n",
    "\n",
    "from tensorflow.keras import Input\n",
    "from tensorflow.keras.layers import Dense, Convolution2D, MaxPooling2D, Flatten, Input, Activation, Add, Dropout, BatchNormalization, GlobalAveragePooling2D\n",
    "from tensorflow.keras.layers import Convolution3D, MaxPooling3D, GlobalAveragePooling3D\n",
    "from tensorflow.keras.callbacks import EarlyStopping\n",
    "from tensorflow.keras.models import Sequential, Model\n",
    "from tensorflow.keras.datasets import fashion_mnist\n",
    "from tensorflow.keras.utils import to_categorical\n",
    "from sklearn.model_selection import train_test_split\n",
    "\n",
    "from IPython.display import SVG\n",
    "from tensorflow.python.keras.utils.vis_utils import model_to_dot\n",
    "\n",
    "from tensorflow.examples.tutorials.mnist import input_data"
   ]
  },
  {
   "cell_type": "code",
   "execution_count": 2,
   "metadata": {},
   "outputs": [],
   "source": [
    "def Shortcut3D(input_data, fx, data_format = \"channels_first\"):\n",
    "\n",
    "  # チャンネル数の取得\n",
    "  if data_format == \"channels_first\":\n",
    "    channel_num = int(fx.shape[1])\n",
    "  else:\n",
    "    channel_num = int(fx.shape[4])\n",
    "      \n",
    "  # inputs と residual とでチャネル数が違うかもしれない。\n",
    "  # そのままだと足せないので、1x1 conv を使って residual 側のフィルタ数に合わせている\n",
    "  buf = Convolution3D(channel_num, (1,1,1), strides=(1,1,1), padding='valid', data_format=data_format)(input_data)\n",
    "\n",
    "  print(\"fx.shape = {0}, buf.shape = {1}\".format(fx.shape, buf.shape))\n",
    "\n",
    "  # 2つを足す\n",
    "  return Add()([buf, fx])"
   ]
  },
  {
   "cell_type": "code",
   "execution_count": 3,
   "metadata": {},
   "outputs": [],
   "source": [
    "def Resblock3D(n_filters, strides=(1,1,1), data_format = \"channels_first\", axis=1):\n",
    "  def f(input_data):   \n",
    "    print(\"input_data.shape = {0}\".format(input_data.shape))\n",
    "    fx = Convolution3D(n_filters, (3,3,3), strides=strides, kernel_initializer='he_normal', padding='same', data_format=data_format)(input_data)\n",
    "    fx = BatchNormalization(axis=axis)(fx)\n",
    "    fx = Activation('relu')(fx)\n",
    "    fx = Convolution3D(n_filters, (3,3,3), strides=strides, kernel_initializer='he_normal', padding='same', data_format=data_format)(fx)\n",
    "    fx = BatchNormalization(axis=axis)(fx)\n",
    "\n",
    "    return Shortcut3D(input_data, fx, data_format)\n",
    "\n",
    "  return f"
   ]
  },
  {
   "cell_type": "code",
   "execution_count": 4,
   "metadata": {},
   "outputs": [],
   "source": [
    "def Resnet3D(is_channels_first = True):\n",
    "  if is_channels_first:\n",
    "    data_format = \"channels_first\"\n",
    "    axis=1\n",
    "    input_data = Input(shape=(1, 3, 28, 28))\n",
    "  else:\n",
    "    data_format = \"channels_last\"\n",
    "    axis=-1\n",
    "    input_data = Input(shape=(3, 28, 28, 1))\n",
    "  \n",
    "  x = Convolution3D(32, (7,7,7), strides=(1,1,1), kernel_initializer='he_normal', padding='same', data_format=data_format)(input_data)\n",
    "  x = BatchNormalization(axis=axis)(x)\n",
    "  x = Activation('relu')(x)\n",
    "  x = MaxPooling3D((3, 3,3), strides=(2,2,2), padding='same', data_format=data_format)(x)\n",
    "\n",
    "\n",
    "  x = Resblock3D(n_filters=64, data_format = data_format, axis=axis)(x)\n",
    "  x = Resblock3D(n_filters=64, data_format = data_format, axis=axis)(x)\n",
    "  x = Resblock3D(n_filters=64, data_format = data_format, axis=axis)(x)\n",
    "  print(x.shape)\n",
    "  x = MaxPooling3D(strides=(2,2,2), data_format=data_format)(x)  \n",
    "  x = Resblock3D(n_filters=128, data_format = data_format, axis=axis)(x)\n",
    "  x = Resblock3D(n_filters=128, data_format = data_format, axis=axis)(x)\n",
    "  x = Resblock3D(n_filters=128, data_format = data_format, axis=axis)(x)\n",
    "\n",
    "\n",
    "  x =  GlobalAveragePooling3D(data_format=data_format)(x)\n",
    "  x = Dense(10, kernel_initializer='he_normal', activation='softmax')(x)\n",
    "\n",
    "  model = Model(inputs=input_data, outputs=x)\n",
    "  return model"
   ]
  },
  {
   "cell_type": "code",
   "execution_count": 5,
   "metadata": {},
   "outputs": [
    {
     "name": "stderr",
     "output_type": "stream",
     "text": [
      "WARNING: Logging before flag parsing goes to stderr.\n",
      "W1006 20:10:58.110271 11496 deprecation.py:506] From c:\\users\\tfukushima1\\appdata\\local\\continuum\\anaconda3\\envs\\techacademy\\lib\\site-packages\\tensorflow\\python\\ops\\init_ops.py:1251: calling VarianceScaling.__init__ (from tensorflow.python.ops.init_ops) with dtype is deprecated and will be removed in a future version.\n",
      "Instructions for updating:\n",
      "Call initializer instance with the dtype argument instead of passing it to the constructor\n"
     ]
    },
    {
     "name": "stdout",
     "output_type": "stream",
     "text": [
      "input_data.shape = (?, 2, 14, 14, 32)\n",
      "fx.shape = (?, 2, 14, 14, 64), buf.shape = (?, 2, 14, 14, 64)\n",
      "input_data.shape = (?, 2, 14, 14, 64)\n",
      "fx.shape = (?, 2, 14, 14, 64), buf.shape = (?, 2, 14, 14, 64)\n",
      "input_data.shape = (?, 2, 14, 14, 64)\n",
      "fx.shape = (?, 2, 14, 14, 64), buf.shape = (?, 2, 14, 14, 64)\n",
      "(?, 2, 14, 14, 64)\n",
      "input_data.shape = (?, 1, 7, 7, 64)\n",
      "fx.shape = (?, 1, 7, 7, 128), buf.shape = (?, 1, 7, 7, 128)\n",
      "input_data.shape = (?, 1, 7, 7, 128)\n",
      "fx.shape = (?, 1, 7, 7, 128), buf.shape = (?, 1, 7, 7, 128)\n",
      "input_data.shape = (?, 1, 7, 7, 128)\n",
      "fx.shape = (?, 1, 7, 7, 128), buf.shape = (?, 1, 7, 7, 128)\n"
     ]
    }
   ],
   "source": [
    "model = Resnet3D(is_channels_first=False)\n",
    "adam = keras.optimizers.Adam()\n",
    "model.compile(optimizer=adam, loss='categorical_crossentropy', metrics=['accuracy'])"
   ]
  },
  {
   "cell_type": "code",
   "execution_count": null,
   "metadata": {},
   "outputs": [],
   "source": []
  }
 ],
 "metadata": {
  "kernelspec": {
   "display_name": "Python 3",
   "language": "python",
   "name": "python3"
  },
  "language_info": {
   "codemirror_mode": {
    "name": "ipython",
    "version": 3
   },
   "file_extension": ".py",
   "mimetype": "text/x-python",
   "name": "python",
   "nbconvert_exporter": "python",
   "pygments_lexer": "ipython3",
   "version": "3.6.9"
  }
 },
 "nbformat": 4,
 "nbformat_minor": 2
}
