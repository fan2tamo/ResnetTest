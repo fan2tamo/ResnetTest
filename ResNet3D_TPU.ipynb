{
 "cells": [
  {
   "cell_type": "code",
   "execution_count": null,
   "metadata": {},
   "outputs": [],
   "source": [
    "!pip uninstall tensorflow"
   ]
  },
  {
   "cell_type": "code",
   "execution_count": null,
   "metadata": {},
   "outputs": [],
   "source": [
    "!pip install tensorflow==1.13.1"
   ]
  },
  {
   "cell_type": "code",
   "execution_count": 0,
   "metadata": {
    "colab": {},
    "colab_type": "code",
    "id": "voFCuDxbu3P7"
   },
   "outputs": [],
   "source": [
    "%matplotlib inline\n",
    "\n",
    "import os\n",
    "import tensorflow.keras as keras\n",
    "import numpy as np\n",
    "import matplotlib.pyplot as plt\n",
    "import tensorflow as tf\n",
    "from tensorflow.keras import Input\n",
    "from tensorflow.keras.layers import Dense, Convolution2D, MaxPooling2D, Flatten, Input, Activation, Add, Dropout, BatchNormalization, GlobalAveragePooling2D\n",
    "from tensorflow.keras.layers import Convolution3D, MaxPooling3D, GlobalAveragePooling3D\n",
    "from tensorflow.keras.callbacks import EarlyStopping, ModelCheckpoint, LearningRateScheduler\n",
    "from tensorflow.keras.models import Sequential, Model\n",
    "from tensorflow.keras.datasets import fashion_mnist\n",
    "from tensorflow.keras.utils import to_categorical\n",
    "from sklearn.model_selection import train_test_split\n",
    "\n",
    "from tensorflow.python.keras.utils.vis_utils import model_to_dot\n",
    "\n",
    "from tensorflow.examples.tutorials.mnist import input_data"
   ]
  },
  {
   "cell_type": "code",
   "execution_count": 2,
   "metadata": {
    "colab": {
     "base_uri": "https://localhost:8080/",
     "height": 34
    },
    "colab_type": "code",
    "executionInfo": {
     "elapsed": 434,
     "status": "ok",
     "timestamp": 1570715897250,
     "user": {
      "displayName": "tamo fan",
      "photoUrl": "",
      "userId": "09773890943083917822"
     },
     "user_tz": -540
    },
    "id": "l4MFv87_vTyH",
    "outputId": "21652dd8-71a6-4640-94f9-068ffd5b64bd"
   },
   "outputs": [
    {
     "name": "stdout",
     "output_type": "stream",
     "text": [
      "Drive already mounted at ./gdrive; to attempt to forcibly remount, call drive.mount(\"./gdrive\", force_remount=True).\n"
     ]
    }
   ],
   "source": [
    "from google.colab import drive\n",
    "drive.mount('./gdrive')"
   ]
  },
  {
   "cell_type": "code",
   "execution_count": 3,
   "metadata": {
    "colab": {
     "base_uri": "https://localhost:8080/",
     "height": 34
    },
    "colab_type": "code",
    "executionInfo": {
     "elapsed": 437,
     "status": "ok",
     "timestamp": 1570715899378,
     "user": {
      "displayName": "tamo fan",
      "photoUrl": "",
      "userId": "09773890943083917822"
     },
     "user_tz": -540
    },
    "id": "3PeEbLCMR-kw",
    "outputId": "4f4bb1c2-f808-412f-d478-6a5ce8136a10"
   },
   "outputs": [
    {
     "name": "stdout",
     "output_type": "stream",
     "text": [
      "/content/gdrive/My Drive/Colab Notebooks/data\n"
     ]
    }
   ],
   "source": [
    "%cd \"gdrive/My Drive/Colab Notebooks/data\""
   ]
  },
  {
   "cell_type": "code",
   "execution_count": 0,
   "metadata": {
    "colab": {},
    "colab_type": "code",
    "id": "u14Pb-Ppu7hg"
   },
   "outputs": [],
   "source": [
    "def Shortcut3D(input_data, fx, data_format = \"channels_first\"):\n",
    "\n",
    "  # チャンネル数の取得\n",
    "  if data_format == \"channels_first\":\n",
    "    channel_num = int(fx.shape[1])\n",
    "  else:\n",
    "    channel_num = int(fx.shape[4])\n",
    "      \n",
    "  # inputs と residual とでチャネル数が違うかもしれない。\n",
    "  # そのままだと足せないので、1x1 conv を使って residual 側のフィルタ数に合わせている\n",
    "  buf = Convolution3D(channel_num, (1,1,1), strides=(1,1,1), padding='valid', data_format=data_format)(input_data)\n",
    "\n",
    "  # 2つを足す\n",
    "  return Add()([buf, fx])"
   ]
  },
  {
   "cell_type": "code",
   "execution_count": 0,
   "metadata": {
    "colab": {},
    "colab_type": "code",
    "id": "KgRxuiigvC75"
   },
   "outputs": [],
   "source": [
    "def Resblock3D(n_filters, strides=(1,1,1), data_format = \"channels_first\", axis=1):\n",
    "  def f(input_data):   \n",
    "    fx = Convolution3D(n_filters, (3,3,3), strides=strides, kernel_initializer='he_normal', padding='same', data_format=data_format)(input_data)\n",
    "    fx = BatchNormalization(axis=axis)(fx)\n",
    "    fx = Activation('relu')(fx)\n",
    "    fx = Convolution3D(n_filters, (3,3,3), strides=strides, kernel_initializer='he_normal', padding='same', data_format=data_format)(fx)\n",
    "    fx = BatchNormalization(axis=axis)(fx)\n",
    "\n",
    "    return Shortcut3D(input_data, fx, data_format)\n",
    "\n",
    "  return f"
   ]
  },
  {
   "cell_type": "code",
   "execution_count": 0,
   "metadata": {
    "colab": {},
    "colab_type": "code",
    "id": "RF1CpIcRvFCq"
   },
   "outputs": [],
   "source": [
    "def Resnet3D(channel = 3, frame = 10, height = 64, width = 64, num_classes = 2, is_channels_first = True):\n",
    "  if is_channels_first:\n",
    "    data_format = \"channels_first\"\n",
    "    axis=1\n",
    "    input_data = Input(shape=(channel, frame, height, width))\n",
    "  else:\n",
    "    data_format = \"channels_last\"\n",
    "    axis=-1\n",
    "    input_data = Input(shape=(frame, height, width, channel))\n",
    "  \n",
    "  print(input_data.shape)\n",
    "\n",
    "  x = Convolution3D(32, (7,7,7), strides=(1,1,1), kernel_initializer='he_normal', padding='same', data_format=data_format)(input_data)\n",
    "  x = BatchNormalization(axis=axis)(x)\n",
    "  x = Activation('relu')(x)\n",
    "  x = MaxPooling3D((3, 3,3), strides=(2,2,2), padding='same', data_format=data_format)(x)\n",
    "\n",
    "\n",
    "  x = Resblock3D(n_filters=64, data_format = data_format, axis=axis)(x)\n",
    "  x = Resblock3D(n_filters=64, data_format = data_format, axis=axis)(x)\n",
    "  x = Resblock3D(n_filters=64, data_format = data_format, axis=axis)(x)\n",
    "  x = MaxPooling3D(strides=(2,2,2), data_format=data_format)(x)  \n",
    "  x = Resblock3D(n_filters=128, data_format = data_format, axis=axis)(x)\n",
    "  x = Resblock3D(n_filters=128, data_format = data_format, axis=axis)(x)\n",
    "  x = Resblock3D(n_filters=128, data_format = data_format, axis=axis)(x)\n",
    "\n",
    "\n",
    "  x =  GlobalAveragePooling3D(data_format=data_format)(x)\n",
    "  x = Dense(num_classes, kernel_initializer='he_normal', activation='softmax')(x)\n",
    "\n",
    "  model = Model(inputs=input_data, outputs=x)\n",
    "  return model"
   ]
  },
  {
   "cell_type": "code",
   "execution_count": 7,
   "metadata": {
    "colab": {
     "base_uri": "https://localhost:8080/",
     "height": 34
    },
    "colab_type": "code",
    "executionInfo": {
     "elapsed": 115753,
     "status": "ok",
     "timestamp": 1570716017446,
     "user": {
      "displayName": "tamo fan",
      "photoUrl": "",
      "userId": "09773890943083917822"
     },
     "user_tz": -540
    },
    "id": "LV_F2-0rvJBx",
    "outputId": "7187108b-3e24-4a38-e3fe-3c82718e484a"
   },
   "outputs": [
    {
     "name": "stdout",
     "output_type": "stream",
     "text": [
      "B\n"
     ]
    }
   ],
   "source": [
    "is_channels_first = False\n",
    "\n",
    "if is_channels_first:\n",
    "  print(\"A\")\n",
    "  buf = np.load('./resnet3d_data_channel_first_updown_and_wipe_20191009.npz')\n",
    "\n",
    "\n",
    "else:\n",
    "  print(\"B\")\n",
    "  buf = np.load('./resnet3d_data_channel_last_updown_and_wipe_20191010.npz')\n",
    "\n",
    "X = buf[\"X\"].astype(\"f2\")\n",
    "Y = buf[\"Y\"]\n",
    "del buf\n",
    "\n",
    "Y = keras.utils.to_categorical(Y, 2, dtype=\"f2\").astype(\"f2\")\n",
    "X_train, X_val,  Y_train,  Y_val = train_test_split(X, Y, train_size=0.8, shuffle=True)\n",
    "X_train, X_test, Y_train, Y_test = train_test_split(X_train, Y_train, train_size=0.8, shuffle=True)"
   ]
  },
  {
   "cell_type": "code",
   "execution_count": 0,
   "metadata": {
    "colab": {},
    "colab_type": "code",
    "id": "zY7WZ7trQGNY"
   },
   "outputs": [],
   "source": [
    "def step_decay(epoch):\n",
    "    x = 0.1\n",
    "    if epoch >= 2: x /= 5.0\n",
    "    if epoch >= 4: x /= 5.0\n",
    "    if epoch >= 6: x /= 5.0\n",
    "    return x\n",
    "  \n",
    "decay = LearningRateScheduler(step_decay, verbose=1)"
   ]
  },
  {
   "cell_type": "code",
   "execution_count": 8,
   "metadata": {
    "colab": {
     "base_uri": "https://localhost:8080/",
     "height": 105
    },
    "colab_type": "code",
    "executionInfo": {
     "elapsed": 1996,
     "status": "ok",
     "timestamp": 1570716037970,
     "user": {
      "displayName": "tamo fan",
      "photoUrl": "",
      "userId": "09773890943083917822"
     },
     "user_tz": -540
    },
    "id": "6h7ZKyYk2DOp",
    "outputId": "a79fa081-4e9b-45fc-e000-7156e8d0d4ef"
   },
   "outputs": [
    {
     "name": "stdout",
     "output_type": "stream",
     "text": [
      "(?, 10, 200, 200, 3)\n",
      "WARNING:tensorflow:From /usr/local/lib/python3.6/dist-packages/tensorflow/python/ops/resource_variable_ops.py:435: colocate_with (from tensorflow.python.framework.ops) is deprecated and will be removed in a future version.\n",
      "Instructions for updating:\n",
      "Colocations handled automatically by placer.\n"
     ]
    }
   ],
   "source": [
    "model = Resnet3D(channel=3, frame=10, height=200, width=200, num_classes=2, is_channels_first=is_channels_first)\n",
    "adam = keras.optimizers.Adam()\n",
    "#lr_decay = tf.keras.callbacks.LearningRateScheduler(lambda epoch: 0.0001 + 0.02 * np.math.pow(0.5, 1+epoch), verbose=True)\n",
    "model.compile(optimizer=adam, loss='binary_crossentropy', metrics=['accuracy'])\n",
    "checkpoint = ModelCheckpoint(filepath=os.path.join(\"./\", 'ResNet34-3D_epoch-{epoch:02d}_{val_loss:.2f}.hdf5'), save_best_only=True)"
   ]
  },
  {
   "cell_type": "code",
   "execution_count": 9,
   "metadata": {
    "colab": {
     "base_uri": "https://localhost:8080/",
     "height": 360
    },
    "colab_type": "code",
    "executionInfo": {
     "elapsed": 11595,
     "status": "ok",
     "timestamp": 1570716054807,
     "user": {
      "displayName": "tamo fan",
      "photoUrl": "",
      "userId": "09773890943083917822"
     },
     "user_tz": -540
    },
    "id": "Z4p0BL6zLKlT",
    "outputId": "ad2c6859-8b91-48e5-e1cd-3526e418a593"
   },
   "outputs": [
    {
     "name": "stdout",
     "output_type": "stream",
     "text": [
      "INFO:tensorflow:Querying Tensorflow master (grpc://10.21.50.82:8470) for TPU system metadata.\n",
      "INFO:tensorflow:Found TPU system:\n",
      "INFO:tensorflow:*** Num TPU Cores: 8\n",
      "INFO:tensorflow:*** Num TPU Workers: 1\n",
      "INFO:tensorflow:*** Num TPU Cores Per Worker: 8\n",
      "INFO:tensorflow:*** Available Device: _DeviceAttributes(/job:worker/replica:0/task:0/device:CPU:0, CPU, -1, 6030402138270382769)\n",
      "INFO:tensorflow:*** Available Device: _DeviceAttributes(/job:worker/replica:0/task:0/device:XLA_CPU:0, XLA_CPU, 17179869184, 9377350620376703158)\n",
      "INFO:tensorflow:*** Available Device: _DeviceAttributes(/job:worker/replica:0/task:0/device:TPU:0, TPU, 17179869184, 1232352298506557261)\n",
      "INFO:tensorflow:*** Available Device: _DeviceAttributes(/job:worker/replica:0/task:0/device:TPU:1, TPU, 17179869184, 10769092011599936229)\n",
      "INFO:tensorflow:*** Available Device: _DeviceAttributes(/job:worker/replica:0/task:0/device:TPU:2, TPU, 17179869184, 7356597634080261761)\n",
      "INFO:tensorflow:*** Available Device: _DeviceAttributes(/job:worker/replica:0/task:0/device:TPU:3, TPU, 17179869184, 8896200760955330734)\n",
      "INFO:tensorflow:*** Available Device: _DeviceAttributes(/job:worker/replica:0/task:0/device:TPU:4, TPU, 17179869184, 13240580165623071048)\n",
      "INFO:tensorflow:*** Available Device: _DeviceAttributes(/job:worker/replica:0/task:0/device:TPU:5, TPU, 17179869184, 9202002047429753245)\n",
      "INFO:tensorflow:*** Available Device: _DeviceAttributes(/job:worker/replica:0/task:0/device:TPU:6, TPU, 17179869184, 6039175071012909598)\n",
      "INFO:tensorflow:*** Available Device: _DeviceAttributes(/job:worker/replica:0/task:0/device:TPU:7, TPU, 17179869184, 17252141316271209438)\n",
      "INFO:tensorflow:*** Available Device: _DeviceAttributes(/job:worker/replica:0/task:0/device:TPU_SYSTEM:0, TPU_SYSTEM, 8589934592, 17532851102059933589)\n",
      "WARNING:tensorflow:tpu_model (from tensorflow.contrib.tpu.python.tpu.keras_support) is experimental and may change or be removed at any time, and without warning.\n",
      "INFO:tensorflow:Cloning Adam {'lr': 0.0010000000474974513, 'beta_1': 0.8999999761581421, 'beta_2': 0.9990000128746033, 'decay': 0.0, 'epsilon': 1e-07, 'amsgrad': False}\n",
      "INFO:tensorflow:Cloning Adam {'lr': 0.0010000000474974513, 'beta_1': 0.8999999761581421, 'beta_2': 0.9990000128746033, 'decay': 0.0, 'epsilon': 1e-07, 'amsgrad': False}\n"
     ]
    }
   ],
   "source": [
    "is_tpu = True\n",
    "\n",
    "if is_tpu:\n",
    "  # TPU\n",
    "  tpu_grpc_url = \"grpc://\"+os.environ[\"COLAB_TPU_ADDR\"]\n",
    "  tpu_cluster_resolver = tf.contrib.cluster_resolver.TPUClusterResolver(tpu_grpc_url)\n",
    "  strategy = tf.contrib.tpu.TPUDistributionStrategy(tpu_cluster_resolver)\n",
    "  model = tf.contrib.tpu.keras_to_tpu_model(model, strategy=strategy)"
   ]
  },
  {
   "cell_type": "code",
   "execution_count": 0,
   "metadata": {
    "colab": {
     "base_uri": "https://localhost:8080/",
     "height": 139
    },
    "colab_type": "code",
    "executionInfo": {
     "elapsed": 3700344,
     "status": "error",
     "timestamp": 1570691245093,
     "user": {
      "displayName": "tamo fan",
      "photoUrl": "",
      "userId": "09773890943083917822"
     },
     "user_tz": -540
    },
    "id": "Vw49OEQRwJfm",
    "outputId": "9d27502d-9c03-4b4c-9c80-fd4b91a94562"
   },
   "outputs": [
    {
     "name": "stdout",
     "output_type": "stream",
     "text": [
      "Train on 2329 samples, validate on 583 samples\n",
      "Epoch 1/200\n",
      "INFO:tensorflow:New input shapes; (re-)compiling: mode=train (# of cores 8), [TensorSpec(shape=(16,), dtype=tf.int32, name='core_id0'), TensorSpec(shape=(16, 10, 200, 200, 3), dtype=tf.float32, name='input_1_10'), TensorSpec(shape=(16, 2), dtype=tf.float32, name='dense_target_30')]\n",
      "INFO:tensorflow:Overriding default placeholder.\n",
      "INFO:tensorflow:Cloning Adam {'lr': 0.0010000000474974513, 'beta_1': 0.8999999761581421, 'beta_2': 0.9990000128746033, 'decay': 0.0, 'epsilon': 1e-07, 'amsgrad': False}\n",
      "INFO:tensorflow:Remapping placeholder for input_1\n"
     ]
    }
   ],
   "source": [
    "history = model.fit(X_train, Y_train,\n",
    "                    batch_size=128,\n",
    "                    epochs=200,\n",
    "                    verbose=1,\n",
    "                    # callbacks=[keras.callbacks.EarlyStopping(monitor='val_loss', min_delta=0, patience=20, verbose=1)],\n",
    "                    callbacks=[checkpoint],\n",
    "                    validation_data=(X_test, Y_test))"
   ]
  },
  {
   "cell_type": "code",
   "execution_count": 0,
   "metadata": {
    "colab": {},
    "colab_type": "code",
    "id": "QdFma77xSAit"
   },
   "outputs": [],
   "source": []
  }
 ],
 "metadata": {
  "accelerator": "TPU",
  "colab": {
   "collapsed_sections": [],
   "machine_shape": "hm",
   "name": "ResNet3D.ipynb",
   "provenance": []
  },
  "kernelspec": {
   "display_name": "Python 3",
   "language": "python",
   "name": "python3"
  },
  "language_info": {
   "codemirror_mode": {
    "name": "ipython",
    "version": 3
   },
   "file_extension": ".py",
   "mimetype": "text/x-python",
   "name": "python",
   "nbconvert_exporter": "python",
   "pygments_lexer": "ipython3",
   "version": "3.7.3"
  }
 },
 "nbformat": 4,
 "nbformat_minor": 1
}
